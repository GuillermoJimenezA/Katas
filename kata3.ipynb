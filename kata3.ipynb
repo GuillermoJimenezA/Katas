{
 "cells": [
  {
   "cell_type": "markdown",
   "metadata": {},
   "source": [
    " if, else y elif"
   ]
  },
  {
   "cell_type": "code",
   "execution_count": 16,
   "metadata": {},
   "outputs": [
    {
     "name": "stdout",
     "output_type": "stream",
     "text": [
      "autzilioo\n"
     ]
    }
   ],
   "source": [
    "autzilioo=25\n",
    "Hasteroide=49\n",
    "if Hasteroide>=autzilioo:\n",
    "    print(\"autzilioo\")\n",
    "else:\n",
    "    print(\"Normal\")"
   ]
  },
  {
   "cell_type": "code",
   "execution_count": 20,
   "metadata": {},
   "outputs": [
    {
     "name": "stdout",
     "output_type": "stream",
     "text": [
      "ya valio carnal viene a una velocidad de 19 km/s\n"
     ]
    }
   ],
   "source": [
    "autzilio2=20\n",
    "Hasteroide2=19\n",
    "if Hasteroide>=autzilioo:\n",
    "    print(\"ya valio carnal viene a una velocidad de\",Hasteroide2,\"km/s\")\n",
    "elif Hasteroide2== autzilioo:\n",
    "    print(\"correle que viene hecho la madre\",Hasteroide2,\"km/s\")\n",
    "else:\n",
    "    print(\"No viene nada\")"
   ]
  },
  {
   "cell_type": "markdown",
   "metadata": {},
   "source": [
    "Operadores"
   ]
  },
  {
   "cell_type": "code",
   "execution_count": 24,
   "metadata": {},
   "outputs": [
    {
     "name": "stdout",
     "output_type": "stream",
     "text": [
      "teikirisi mainfren\n"
     ]
    }
   ],
   "source": [
    "Velocidad_Hasteroide=19\n",
    "Tamano_Hasteroide=30\n",
    "if Velocidad_Hasteroide>=25:\n",
    "    print(\"Advertencia, asteroide acercandose a velocidad de:\",Velocidad_Hasteroide,\"km/s\")\n",
    "    if Tamano_Hasteroide>=25 and Tamano_Hasteroide<=1000:\n",
    "        print(\"ya balio barriga, asteroide de tamaño:\",Tamano_Hasteroide,\"mts\")\n",
    "    elif Tamano_Hasteroide==25 and Tamano_Hasteroide==1000:\n",
    "        print(\"Ya balio barriga\",Tamano_Hasteroide,\"mts\")\n",
    "    \n",
    "elif Velocidad_Hasteroide>=20 and Velocidad_Hasteroide<25:\n",
    "    print(\"¡Hay uno que se dirige a la tierra ahora a una velocidad de\",Velocidad_Hasteroide,\"km/s\")\n",
    "else:\n",
    "    print(\"teikirisi mainfren\")\n",
    "\n"
   ]
  }
 ],
 "metadata": {
  "interpreter": {
   "hash": "1c8f63950cd32b8935a7c51739ffb05e0a4dbbf69a07da2c3b32ecaf9ec4ed94"
  },
  "kernelspec": {
   "display_name": "Python 3.9.0 64-bit",
   "language": "python",
   "name": "python3"
  },
  "language_info": {
   "codemirror_mode": {
    "name": "ipython",
    "version": 3
   },
   "file_extension": ".py",
   "mimetype": "text/x-python",
   "name": "python",
   "nbconvert_exporter": "python",
   "pygments_lexer": "ipython3",
   "version": "3.10.2"
  },
  "orig_nbformat": 4
 },
 "nbformat": 4,
 "nbformat_minor": 2
}
